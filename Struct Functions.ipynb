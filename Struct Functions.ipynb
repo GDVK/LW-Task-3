{
 "cells": [
  {
   "cell_type": "markdown",
   "id": "87f8551d",
   "metadata": {},
   "source": [
    "### struct.pack() "
   ]
  },
  {
   "cell_type": "code",
   "execution_count": 1,
   "id": "8e568aef",
   "metadata": {},
   "outputs": [
    {
     "name": "stdout",
     "output_type": "stream",
     "text": [
      "b'\\x01\\x00\\x02\\x00\\x03\\x00\\x00\\x00'\n",
      "b'\\x01\\x00\\x00\\x00\\x02\\x00\\x00\\x00\\x03\\x00\\x00\\x00'\n"
     ]
    }
   ],
   "source": [
    "import struct\n",
    "  \n",
    "# Format: h is short in C type\n",
    "# Format: l is long in C type\n",
    "# Format 'hhl' stands for 'short short long'\n",
    "var = struct.pack('hhl',1,2,3)\n",
    "print(var)\n",
    "  \n",
    "# Format: i is int in C type\n",
    "# Format 'iii' stands for 'int int int'\n",
    "var = struct.pack('iii',1,2,3)\n",
    "print(var)"
   ]
  },
  {
   "cell_type": "markdown",
   "id": "9dd7654d",
   "metadata": {},
   "source": [
    "### struct.unpack() "
   ]
  },
  {
   "cell_type": "code",
   "execution_count": 3,
   "id": "fbe462c6",
   "metadata": {},
   "outputs": [
    {
     "name": "stdout",
     "output_type": "stream",
     "text": [
      "b'\\x01\\x00\\x02\\x00\\x05\\x00\\x00\\x00\\xbd\\x01\\x00\\x00'\n",
      "(True, 2, 5, 445)\n",
      "b'\\x05\\x00\\x00\\x00\\x00\\x00\\x00\\x0033\\x13@'\n",
      "(5, 2.299999952316284)\n"
     ]
    }
   ],
   "source": [
    "import struct\n",
    "  \n",
    "# '?' -> _BOOL , 'h' -> short, 'i' -> int and 'l' -> long\n",
    "var = struct.pack('?hil', True, 2, 5, 445)\n",
    "print(var)\n",
    "  \n",
    "# struct.unpack() return a tuples\n",
    "# Variables V1, V2, V3,.. are returned as elements of tuple\n",
    "tup = struct.unpack('?hil', var)\n",
    "print(tup)\n",
    "  \n",
    "# q -> long long int and f -> float\n",
    "var = struct.pack('Qf', 5, 2.3)\n",
    "print(var)\n",
    "tup = struct.unpack('Qf', var)\n",
    "print(tup)"
   ]
  },
  {
   "cell_type": "code",
   "execution_count": null,
   "id": "cbe76e41",
   "metadata": {},
   "outputs": [],
   "source": []
  },
  {
   "cell_type": "code",
   "execution_count": null,
   "id": "dde12e22",
   "metadata": {},
   "outputs": [],
   "source": []
  }
 ],
 "metadata": {
  "kernelspec": {
   "display_name": "Python 3",
   "language": "python",
   "name": "python3"
  },
  "language_info": {
   "codemirror_mode": {
    "name": "ipython",
    "version": 3
   },
   "file_extension": ".py",
   "mimetype": "text/x-python",
   "name": "python",
   "nbconvert_exporter": "python",
   "pygments_lexer": "ipython3",
   "version": "3.8.8"
  }
 },
 "nbformat": 4,
 "nbformat_minor": 5
}
